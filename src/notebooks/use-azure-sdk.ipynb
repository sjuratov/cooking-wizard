{
 "cells": [
  {
   "cell_type": "code",
   "execution_count": 9,
   "metadata": {},
   "outputs": [],
   "source": [
    "import os\n",
    "from azure.ai.projects import AIProjectClient\n",
    "from azure.ai.projects.models import CodeInterpreterTool\n",
    "from azure.identity import DefaultAzureCredential\n",
    "from typing import Any\n",
    "from pathlib import Path\n",
    "\n",
    "import requests\n",
    "import sys\n",
    "import os\n",
    "import logging\n",
    "sys.path.append(\"..\")\n",
    "from utils import load_azd_env, set_azure_ai_project_connection_string, setup_logging, get_file_paths"
   ]
  },
  {
   "cell_type": "code",
   "execution_count": 10,
   "metadata": {},
   "outputs": [],
   "source": [
    "load_azd_env()\n",
    "set_azure_ai_project_connection_string()"
   ]
  },
  {
   "cell_type": "code",
   "execution_count": 11,
   "metadata": {},
   "outputs": [],
   "source": [
    "enbale_logging = False\n",
    "\n",
    "if enbale_logging:\n",
    "    setup_logging()"
   ]
  },
  {
   "cell_type": "code",
   "execution_count": 12,
   "metadata": {},
   "outputs": [
    {
     "name": "stdout",
     "output_type": "stream",
     "text": [
      "Created agent, agent ID: asst_eZ1KTCFIUbFqeYSzQnGqZnrk\n",
      "Created thread, thread ID: thread_PgENBWIgRM8hCgqxeL5dtLhs\n",
      "Created message, message ID: msg_h9EtE6fG7cC0VD0p8rtOLxwb\n",
      "Run finished with status: completed\n",
      "Messages: {'object': 'list', 'data': [{'id': 'msg_DueDlqHMKlKK8q55i7HnAaVV', 'object': 'thread.message', 'created_at': 1735236368, 'assistant_id': 'asst_eZ1KTCFIUbFqeYSzQnGqZnrk', 'thread_id': 'thread_PgENBWIgRM8hCgqxeL5dtLhs', 'run_id': 'run_gd7yBl7Fcypj0GULFgEiNKKs', 'role': 'assistant', 'content': [{'type': 'image_file', 'image_file': {'file_id': 'assistant-81QKEcigtcuUWSbGOCvOAtbo'}}, {'type': 'text', 'text': {'value': 'The bar chart has been created successfully. You can download the file using the following link:\\n\\n[Download the operating profit bar chart](sandbox:/mnt/data/operating_profit_bar_chart.png)', 'annotations': [{'type': 'file_path', 'text': 'sandbox:/mnt/data/operating_profit_bar_chart.png', 'start_index': 140, 'end_index': 188, 'file_path': {'file_id': 'assistant-AOd4JGsFdnjhnQfK7x9EWjkb'}}]}}], 'attachments': [{'file_id': 'assistant-AOd4JGsFdnjhnQfK7x9EWjkb', 'tools': [{'type': 'code_interpreter'}]}], 'metadata': {}}, {'id': 'msg_h9EtE6fG7cC0VD0p8rtOLxwb', 'object': 'thread.message', 'created_at': 1735236361, 'assistant_id': None, 'thread_id': 'thread_PgENBWIgRM8hCgqxeL5dtLhs', 'run_id': None, 'role': 'user', 'content': [{'type': 'text', 'text': {'value': 'Could you please create a bar chart for the operating profit using the following data and provide the file to me? Company A: $1.2 million, Company B: $2.5 million, Company C: $3.0 million, Company D: $1.8 million', 'annotations': []}}], 'attachments': [], 'metadata': {}}], 'first_id': 'msg_DueDlqHMKlKK8q55i7HnAaVV', 'last_id': 'msg_h9EtE6fG7cC0VD0p8rtOLxwb', 'has_more': False}\n",
      "Last Message: The bar chart has been created successfully. You can download the file using the following link:\n",
      "\n",
      "[Download the operating profit bar chart](sandbox:/mnt/data/operating_profit_bar_chart.png)\n",
      "Image File ID: assistant-81QKEcigtcuUWSbGOCvOAtbo\n",
      "Saved image file to: /Users/sjuratovic/repos/cooking-wizard/src/notebooks/assistant-81QKEcigtcuUWSbGOCvOAtbo_image_file.png\n",
      "File Paths:\n",
      "Type: file_path\n",
      "Text: sandbox:/mnt/data/operating_profit_bar_chart.png\n",
      "File ID: assistant-AOd4JGsFdnjhnQfK7x9EWjkb\n",
      "Start Index: 140\n",
      "End Index: 188\n",
      "Deleted agent\n"
     ]
    }
   ],
   "source": [
    "\n",
    "\n",
    "project_client = AIProjectClient.from_connection_string(\n",
    "    credential=DefaultAzureCredential(), conn_str=os.environ[\"AZURE_AI_FOUNDRY_CONNECTION_STRING\"]\n",
    ")\n",
    "\n",
    "with project_client:\n",
    "    # Create an instance of the CodeInterpreterTool\n",
    "    code_interpreter = CodeInterpreterTool()\n",
    "\n",
    "    # The CodeInterpreterTool needs to be included in creation of the agent\n",
    "    agent = project_client.agents.create_agent(\n",
    "        model=os.environ[\"AZURE_AI_DEPLOYMENT_MODEL\"],\n",
    "        name=\"my-agent\",\n",
    "        instructions=\"You are helpful agent\",\n",
    "        tools=code_interpreter.definitions,\n",
    "        tool_resources=code_interpreter.resources,\n",
    "    )\n",
    "    print(f\"Created agent, agent ID: {agent.id}\")\n",
    "\n",
    "    # Create a thread\n",
    "    thread = project_client.agents.create_thread()\n",
    "    print(f\"Created thread, thread ID: {thread.id}\")\n",
    "\n",
    "    # Create a message\n",
    "    message = project_client.agents.create_message(\n",
    "        thread_id=thread.id,\n",
    "        role=\"user\",\n",
    "        content=\"Could you please create a bar chart for the operating profit using the following data and provide the file to me? Company A: $1.2 million, Company B: $2.5 million, Company C: $3.0 million, Company D: $1.8 million\",\n",
    "    )\n",
    "    print(f\"Created message, message ID: {message.id}\")\n",
    "\n",
    "    # Run the agent\n",
    "    run = project_client.agents.create_and_process_run(thread_id=thread.id, assistant_id=agent.id)\n",
    "    print(f\"Run finished with status: {run.status}\")\n",
    "\n",
    "    if run.status == \"failed\":\n",
    "        # Check if you got \"Rate limit is exceeded.\", then you want to get more quota\n",
    "        print(f\"Run failed: {run.last_error}\")\n",
    "\n",
    "    # Get messages from the thread\n",
    "    messages = project_client.agents.list_messages(thread_id=thread.id)\n",
    "    print(f\"Messages: {messages}\")\n",
    "\n",
    "    # Get the last message from the sender\n",
    "    last_msg = messages.get_last_text_message_by_sender(\"assistant\")\n",
    "    if last_msg:\n",
    "        print(f\"Last Message: {last_msg.text.value}\")\n",
    "\n",
    "    # Generate an image file for the bar chart\n",
    "    for image_content in messages.image_contents:\n",
    "        print(f\"Image File ID: {image_content.image_file.file_id}\")\n",
    "        file_name = f\"{image_content.image_file.file_id}_image_file.png\"\n",
    "        project_client.agents.save_file(file_id=image_content.image_file.file_id, file_name=file_name)\n",
    "        print(f\"Saved image file to: {Path.cwd() / file_name}\")\n",
    "\n",
    "    # Print the file path(s) from the messages\n",
    "    for file_path_annotation in messages.file_path_annotations:\n",
    "        print(f\"File Paths:\")\n",
    "        print(f\"Type: {file_path_annotation.type}\")\n",
    "        print(f\"Text: {file_path_annotation.text}\")\n",
    "        print(f\"File ID: {file_path_annotation.file_path.file_id}\")\n",
    "        print(f\"Start Index: {file_path_annotation.start_index}\")\n",
    "        print(f\"End Index: {file_path_annotation.end_index}\")\n",
    "        project_client.agents.save_file(file_id=file_path_annotation.file_path.file_id, file_name=Path(file_path_annotation.text).name)\n",
    "\n",
    "    # Delete the agent once done\n",
    "    project_client.agents.delete_agent(agent.id)\n",
    "    print(\"Deleted agent\")"
   ]
  }
 ],
 "metadata": {
  "kernelspec": {
   "display_name": ".venv",
   "language": "python",
   "name": "python3"
  },
  "language_info": {
   "codemirror_mode": {
    "name": "ipython",
    "version": 3
   },
   "file_extension": ".py",
   "mimetype": "text/x-python",
   "name": "python",
   "nbconvert_exporter": "python",
   "pygments_lexer": "ipython3",
   "version": "3.10.16"
  }
 },
 "nbformat": 4,
 "nbformat_minor": 2
}
