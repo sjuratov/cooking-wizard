{
 "cells": [
  {
   "cell_type": "code",
   "execution_count": 1,
   "metadata": {},
   "outputs": [],
   "source": [
    "import os, time\n",
    "from azure.ai.projects import AIProjectClient\n",
    "from azure.identity import DefaultAzureCredential\n",
    "from openai import AzureOpenAI\n",
    "\n",
    "import requests\n",
    "import sys\n",
    "import os\n",
    "import logging\n",
    "sys.path.append(\"..\")\n",
    "from utils import load_azd_env, set_azure_ai_project_connection_string, setup_logging, get_file_paths"
   ]
  },
  {
   "cell_type": "code",
   "execution_count": 2,
   "metadata": {},
   "outputs": [],
   "source": [
    "load_azd_env()\n",
    "set_azure_ai_project_connection_string()"
   ]
  },
  {
   "cell_type": "code",
   "execution_count": 3,
   "metadata": {},
   "outputs": [],
   "source": [
    "enbale_logging = False\n",
    "\n",
    "if enbale_logging:\n",
    "    setup_logging()"
   ]
  },
  {
   "cell_type": "code",
   "execution_count": 4,
   "metadata": {},
   "outputs": [
    {
     "name": "stdout",
     "output_type": "stream",
     "text": [
      "Created agent, agent ID: asst_R7GZTubuLZ9EEm1bwlYVXQY0\n",
      "Created thread, thread ID: thread_PWrHOShSECPzcUwl715vnWjl\n",
      "Created message, message ID: msg_u7xFqjf8d0K82BhjHJGOQt3b\n",
      "Run status: completed\n",
      "Deleted agent\n",
      "Messages: SyncCursorPage[Message](data=[Message(id='msg_fwDnY7rd4iAdRyFrYE6bScV4', assistant_id='asst_R7GZTubuLZ9EEm1bwlYVXQY0', attachments=[], completed_at=None, content=[TextContentBlock(text=Text(annotations=[], value=\"Sure! How about this one:\\n\\nWhy don't skeletons fight each other?\\n\\nThey don't have the guts.\"), type='text')], created_at=1735236468, incomplete_at=None, incomplete_details=None, metadata={}, object='thread.message', role='assistant', run_id='run_runswyo6lAiB10GcMMjx0P1h', status=None, thread_id='thread_PWrHOShSECPzcUwl715vnWjl'), Message(id='msg_u7xFqjf8d0K82BhjHJGOQt3b', assistant_id=None, attachments=[], completed_at=None, content=[TextContentBlock(text=Text(annotations=[], value='Hello, tell me a joke'), type='text')], created_at=1735236466, incomplete_at=None, incomplete_details=None, metadata={}, object='thread.message', role='user', run_id=None, status=None, thread_id='thread_PWrHOShSECPzcUwl715vnWjl')], object='list', first_id='msg_fwDnY7rd4iAdRyFrYE6bScV4', last_id='msg_u7xFqjf8d0K82BhjHJGOQt3b', has_more=False)\n"
     ]
    }
   ],
   "source": [
    "\n",
    "\n",
    "with AIProjectClient.from_connection_string(\n",
    "    credential=DefaultAzureCredential(),\n",
    "    conn_str=os.environ[\"AZURE_AI_FOUNDRY_CONNECTION_STRING\"],\n",
    ") as project_client:\n",
    "\n",
    "    # Explicit type hinting for IntelliSense\n",
    "    client: AzureOpenAI = project_client.inference.get_azure_openai_client(\n",
    "        # The latest API version is 2024-10-01-preview\n",
    "        api_version = \"2024-10-01-preview\",\n",
    "    )\n",
    "\n",
    "    with client:\n",
    "        agent = client.beta.assistants.create(\n",
    "            model=os.environ[\"AZURE_AI_DEPLOYMENT_MODEL\"], name=\"my-agent\", instructions=\"You are a helpful agent\"\n",
    "        )\n",
    "        print(f\"Created agent, agent ID: {agent.id}\")\n",
    "\n",
    "        thread = client.beta.threads.create()\n",
    "        print(f\"Created thread, thread ID: {thread.id}\")\n",
    "\n",
    "        message = client.beta.threads.messages.create(thread_id=thread.id, role=\"user\", content=\"Hello, tell me a joke\")\n",
    "        print(f\"Created message, message ID: {message.id}\")\n",
    "\n",
    "        run = client.beta.threads.runs.create(thread_id=thread.id, assistant_id=agent.id)\n",
    "\n",
    "        # Poll the run while run status is queued or in progress\n",
    "        while run.status in [\"queued\", \"in_progress\", \"requires_action\"]:\n",
    "            time.sleep(1)  # Wait for a second\n",
    "            run = client.beta.threads.runs.retrieve(thread_id=thread.id, run_id=run.id)\n",
    "            print(f\"Run status: {run.status}\")\n",
    "\n",
    "        client.beta.assistants.delete(agent.id)\n",
    "        print(\"Deleted agent\")\n",
    "\n",
    "        messages = client.beta.threads.messages.list(thread_id=thread.id)\n",
    "        print(f\"Messages: {messages}\")"
   ]
  }
 ],
 "metadata": {
  "kernelspec": {
   "display_name": ".venv",
   "language": "python",
   "name": "python3"
  },
  "language_info": {
   "codemirror_mode": {
    "name": "ipython",
    "version": 3
   },
   "file_extension": ".py",
   "mimetype": "text/x-python",
   "name": "python",
   "nbconvert_exporter": "python",
   "pygments_lexer": "ipython3",
   "version": "3.10.16"
  }
 },
 "nbformat": 4,
 "nbformat_minor": 2
}
