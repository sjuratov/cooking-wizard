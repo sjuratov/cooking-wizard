{
 "cells": [
  {
   "cell_type": "code",
   "execution_count": 1,
   "metadata": {},
   "outputs": [
    {
     "data": {
      "text/plain": [
       "'\\nDESCRIPTION:\\n    This sample demonstrates how to use basic agent operations from\\n    the Azure Agents service using a synchronous client.\\n\\nUSAGE:\\n    python sample_agents_basics.py\\n\\n    Before running the sample:\\n\\n    pip install azure-ai-projects azure-identity\\n\\n    Set this environment variables with your own values:\\n    PROJECT_CONNECTION_STRING - the Azure AI Project connection string, as found in your AI Foundry project.\\n'"
      ]
     },
     "execution_count": 1,
     "metadata": {},
     "output_type": "execute_result"
    }
   ],
   "source": [
    "# ------------------------------------\n",
    "# Copyright (c) Microsoft Corporation.\n",
    "# Licensed under the MIT License.\n",
    "# ------------------------------------\n",
    "\n",
    "\"\"\"\n",
    "DESCRIPTION:\n",
    "    This sample demonstrates how to use basic agent operations from\n",
    "    the Azure Agents service using a synchronous client.\n",
    "\n",
    "USAGE:\n",
    "    python sample_agents_basics.py\n",
    "\n",
    "    Before running the sample:\n",
    "\n",
    "    pip install azure-ai-projects azure-identity\n",
    "\n",
    "    Set this environment variables with your own values:\n",
    "    PROJECT_CONNECTION_STRING - the Azure AI Project connection string, as found in your AI Foundry project.\n",
    "\"\"\""
   ]
  },
  {
   "cell_type": "code",
   "execution_count": 2,
   "metadata": {},
   "outputs": [],
   "source": [
    "import os, time\n",
    "from azure.ai.projects import AIProjectClient\n",
    "from azure.identity import DefaultAzureCredential\n",
    "from azure.ai.projects.models import MessageTextContent\n",
    "import requests\n",
    "import sys\n",
    "import os\n",
    "import logging\n",
    "sys.path.append(\"..\")\n",
    "from utils import load_azd_env, set_azure_ai_project_connection_string, setup_logging, get_file_paths"
   ]
  },
  {
   "cell_type": "code",
   "execution_count": 3,
   "metadata": {},
   "outputs": [],
   "source": [
    "load_azd_env()\n",
    "set_azure_ai_project_connection_string()\n"
   ]
  },
  {
   "cell_type": "code",
   "execution_count": 4,
   "metadata": {},
   "outputs": [],
   "source": [
    "enbale_logging = False\n",
    "\n",
    "if enbale_logging:\n",
    "    setup_logging()"
   ]
  },
  {
   "cell_type": "code",
   "execution_count": 5,
   "metadata": {},
   "outputs": [],
   "source": [
    "# [START create_project_client]\n",
    "project_client = AIProjectClient.from_connection_string(\n",
    "    credential=DefaultAzureCredential(),\n",
    "    conn_str=os.environ[\"AZURE_AI_FOUNDRY_CONNECTION_STRING\"],\n",
    ")\n",
    "# [END create_project_client]"
   ]
  },
  {
   "cell_type": "code",
   "execution_count": 6,
   "metadata": {},
   "outputs": [
    {
     "name": "stdout",
     "output_type": "stream",
     "text": [
      "Created agent, agent ID: asst_BGSKtvtTxSBS1thtLbJGnEIE\n",
      "Created thread, thread ID: thread_V23r3H33qEPtVQljNeQsriet\n",
      "Created message, message ID: msg_8aDcsIDGULkOWBm2H7xb2cWq\n",
      "Run status: completed\n",
      "Deleted agent\n",
      "user: Hello, tell me a joke\n",
      "assistant: Sure! Here's a light-hearted joke for you:\n",
      "\n",
      "Why don't scientists trust atoms?\n",
      "\n",
      "Because they make up everything!\n",
      "Messages: {'object': 'list', 'data': [{'id': 'msg_Egmqk9EofpfyvFzsDmPW5iGg', 'object': 'thread.message', 'created_at': 1735236144, 'assistant_id': 'asst_BGSKtvtTxSBS1thtLbJGnEIE', 'thread_id': 'thread_V23r3H33qEPtVQljNeQsriet', 'run_id': 'run_99FCkisMjAGtekq78mrF6Nze', 'role': 'assistant', 'content': [{'type': 'text', 'text': {'value': \"Sure! Here's a light-hearted joke for you:\\n\\nWhy don't scientists trust atoms?\\n\\nBecause they make up everything!\", 'annotations': []}}], 'attachments': [], 'metadata': {}}, {'id': 'msg_8aDcsIDGULkOWBm2H7xb2cWq', 'object': 'thread.message', 'created_at': 1735236143, 'assistant_id': None, 'thread_id': 'thread_V23r3H33qEPtVQljNeQsriet', 'run_id': None, 'role': 'user', 'content': [{'type': 'text', 'text': {'value': 'Hello, tell me a joke', 'annotations': []}}], 'attachments': [], 'metadata': {}}], 'first_id': 'msg_Egmqk9EofpfyvFzsDmPW5iGg', 'last_id': 'msg_8aDcsIDGULkOWBm2H7xb2cWq', 'has_more': False}\n"
     ]
    }
   ],
   "source": [
    "with project_client:\n",
    "\n",
    "    # [START create_agent]\n",
    "    agent = project_client.agents.create_agent(\n",
    "        model=os.environ[\"AZURE_AI_DEPLOYMENT_MODEL\"],\n",
    "        name=\"my-assistant\",\n",
    "        instructions=\"You are helpful assistant\",\n",
    "    )\n",
    "    # [END create_agent]\n",
    "    print(f\"Created agent, agent ID: {agent.id}\")\n",
    "\n",
    "    # [START create_thread]\n",
    "    thread = project_client.agents.create_thread()\n",
    "    # [END create_thread]\n",
    "    print(f\"Created thread, thread ID: {thread.id}\")\n",
    "\n",
    "    # [START create_message]\n",
    "    message = project_client.agents.create_message(thread_id=thread.id, role=\"user\", content=\"Hello, tell me a joke\")\n",
    "    # [END create_message]\n",
    "    print(f\"Created message, message ID: {message.id}\")\n",
    "\n",
    "    # [START create_run]\n",
    "    run = project_client.agents.create_run(thread_id=thread.id, assistant_id=agent.id)\n",
    "\n",
    "    # Poll the run as long as run status is queued or in progress\n",
    "    while run.status in [\"queued\", \"in_progress\", \"requires_action\"]:\n",
    "        # Wait for a second\n",
    "        time.sleep(1)\n",
    "        run = project_client.agents.get_run(thread_id=thread.id, run_id=run.id)\n",
    "        # [END create_run]\n",
    "        print(f\"Run status: {run.status}\")\n",
    "\n",
    "    project_client.agents.delete_agent(agent.id)\n",
    "    print(\"Deleted agent\")\n",
    "\n",
    "    # [START list_messages]\n",
    "    messages = project_client.agents.list_messages(thread_id=thread.id)\n",
    "\n",
    "    # The messages are following in the reverse order,\n",
    "    # we will iterate them and output only text contents.\n",
    "    for data_point in reversed(messages.data):\n",
    "        last_message_content = data_point.content[-1]\n",
    "        if isinstance(last_message_content, MessageTextContent):\n",
    "            print(f\"{data_point.role}: {last_message_content.text.value}\")\n",
    "\n",
    "    # [END list_messages]\n",
    "    print(f\"Messages: {messages}\")\n"
   ]
  }
 ],
 "metadata": {
  "kernelspec": {
   "display_name": ".venv",
   "language": "python",
   "name": "python3"
  },
  "language_info": {
   "codemirror_mode": {
    "name": "ipython",
    "version": 3
   },
   "file_extension": ".py",
   "mimetype": "text/x-python",
   "name": "python",
   "nbconvert_exporter": "python",
   "pygments_lexer": "ipython3",
   "version": "3.10.16"
  }
 },
 "nbformat": 4,
 "nbformat_minor": 2
}
